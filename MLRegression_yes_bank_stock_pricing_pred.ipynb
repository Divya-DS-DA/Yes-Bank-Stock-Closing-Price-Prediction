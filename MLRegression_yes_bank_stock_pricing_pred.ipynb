{
  "nbformat": 4,
  "nbformat_minor": 0,
  "metadata": {
    "colab": {
      "provenance": []
    },
    "kernelspec": {
      "name": "python3",
      "display_name": "Python 3"
    },
    "language_info": {
      "name": "python"
    }
  },
  "cells": [
    {
      "cell_type": "markdown",
      "source": [
        "##**Project Name**: **Supervised Regression-📉Yes Bank Stock Closing Price Prediction📈**"
      ],
      "metadata": {
        "id": "jtwLunxWhrnZ"
      }
    },
    {
      "cell_type": "markdown",
      "source": [
        "##### **Project Type**    - ML Model Building Using Supervised Regression\n",
        "##### **Contribution**    - Individual"
      ],
      "metadata": {
        "id": "kxbxG4QmhxYI"
      }
    },
    {
      "cell_type": "markdown",
      "source": [
        "# **Project Summary -**"
      ],
      "metadata": {
        "id": "7jb3c0eDh1ha"
      }
    },
    {
      "cell_type": "markdown",
      "source": [
        "The \"Regression-Yes Bank Stock Closing Price Prediction\" capstone project aims to develop an accurate and reliable model for forecasting the closing prices of Yes Bank stocks. Yes Bank, a prominent financial institution, is subject to various market dynamics and economic factors that influence its stock prices. The project utilizes regression analysis, a powerful statistical method, to create a predictive model that can assist investors, traders, and financial analysts in making informed decisions."
      ],
      "metadata": {
        "id": "wKY3ABWoh7oS"
      }
    },
    {
      "cell_type": "markdown",
      "source": [
        "# **Problem Statement**"
      ],
      "metadata": {
        "id": "dCR7NQ9xiCMS"
      }
    },
    {
      "cell_type": "markdown",
      "source": [
        "In the complex landscape of financial markets, predicting stock prices accurately is a challenging task. Investors, traders, and financial analysts face difficulties in making well-informed decisions due to the lots of factors influencing stock prices. The specific challenge addressed in this capstone project is the need for a reliable regression-based model to predict the closing prices of Yes Bank stocks. The goal is to develop a robust predictive model that leverages historical stock data, financial indicators, and relevant macroeconomic variables to forecast Yes Bank's stock closing prices."
      ],
      "metadata": {
        "id": "ksPLti12iMKG"
      }
    },
    {
      "cell_type": "markdown",
      "source": [
        "# ***Let's Begin !***"
      ],
      "metadata": {
        "id": "zZLF9tX9iR4l"
      }
    },
    {
      "cell_type": "markdown",
      "source": [
        "## ***1. Know Your Data***"
      ],
      "metadata": {
        "id": "2iFHtGQSiUub"
      }
    },
    {
      "cell_type": "markdown",
      "source": [
        "### Import Libraries"
      ],
      "metadata": {
        "id": "CR96o30ZiaRQ"
      }
    },
    {
      "cell_type": "code",
      "source": [
        "# Import Required Libraries\n",
        "import numpy as np # Used for Fast mathematical operations over arrays,Linear Algebra, Fourier Transforms, Random Number Generation\n",
        "import pandas as pd\n",
        "import matplotlib.pyplot as plt\n",
        "import seaborn as sns\n",
        "import datetime\n",
        "\n",
        "from sklearn.model_selection import train_test_split\n",
        "from sklearn.metrics import mean_squared_error, mean_absolute_error, r2_score\n",
        "from sklearn.metrics import mean_absolute_percentage_error\n",
        "\n",
        "from sklearn.linear_model import LinearRegression\n",
        "from sklearn.linear_model import Lasso, Ridge\n",
        "from sklearn.linear_model import ElasticNet\n",
        "from sklearn.model_selection import GridSearchCV\n",
        "from sklearn.preprocessing import MinMaxScaler\n",
        "import warnings\n",
        "warnings.filterwarnings('ignore')"
      ],
      "metadata": {
        "id": "wkq5wLzoin4O"
      },
      "execution_count": 2,
      "outputs": []
    },
    {
      "cell_type": "markdown",
      "source": [
        "### Dataset Loading"
      ],
      "metadata": {
        "id": "yBgnG3ktiwJB"
      }
    },
    {
      "cell_type": "code",
      "source": [
        "from google.colab import drive\n",
        "drive.mount('/content/drive')"
      ],
      "metadata": {
        "colab": {
          "base_uri": "https://localhost:8080/"
        },
        "id": "ndVKnBQBi3Mt",
        "outputId": "af24945b-8145-4eee-f6fa-bfdc8d7f27b3"
      },
      "execution_count": 3,
      "outputs": [
        {
          "output_type": "stream",
          "name": "stdout",
          "text": [
            "Mounted at /content/drive\n"
          ]
        }
      ]
    },
    {
      "cell_type": "code",
      "source": [
        "# Load The Dataset\n",
        "data = pd.read_csv('/content/drive/MyDrive/dataset_link/data_YesBank_StockPrices.csv')"
      ],
      "metadata": {
        "id": "xkEKJo3ai3w3"
      },
      "execution_count": 4,
      "outputs": []
    },
    {
      "cell_type": "markdown",
      "source": [
        "### Dataset First View"
      ],
      "metadata": {
        "id": "YAdQu1h9j_pZ"
      }
    },
    {
      "cell_type": "code",
      "source": [
        "# Dataset First Look\n",
        "data"
      ],
      "metadata": {
        "colab": {
          "base_uri": "https://localhost:8080/",
          "height": 423
        },
        "id": "DiIYsZ4qkWuR",
        "outputId": "682a93a5-0499-4c37-93e7-74523e4d36b6"
      },
      "execution_count": 5,
      "outputs": [
        {
          "output_type": "execute_result",
          "data": {
            "text/plain": [
              "       Date   Open   High    Low  Close\n",
              "0    Jul-05  13.00  14.00  11.25  12.46\n",
              "1    Aug-05  12.58  14.88  12.55  13.42\n",
              "2    Sep-05  13.48  14.87  12.27  13.30\n",
              "3    Oct-05  13.20  14.47  12.40  12.99\n",
              "4    Nov-05  13.35  13.88  12.88  13.41\n",
              "..      ...    ...    ...    ...    ...\n",
              "180  Jul-20  25.60  28.30  11.10  11.95\n",
              "181  Aug-20  12.00  17.16  11.85  14.37\n",
              "182  Sep-20  14.30  15.34  12.75  13.15\n",
              "183  Oct-20  13.30  14.01  12.11  12.42\n",
              "184  Nov-20  12.41  14.90  12.21  14.67\n",
              "\n",
              "[185 rows x 5 columns]"
            ],
            "text/html": [
              "\n",
              "  <div id=\"df-3a0051bc-388d-4273-ad3b-57ed0f270c0a\" class=\"colab-df-container\">\n",
              "    <div>\n",
              "<style scoped>\n",
              "    .dataframe tbody tr th:only-of-type {\n",
              "        vertical-align: middle;\n",
              "    }\n",
              "\n",
              "    .dataframe tbody tr th {\n",
              "        vertical-align: top;\n",
              "    }\n",
              "\n",
              "    .dataframe thead th {\n",
              "        text-align: right;\n",
              "    }\n",
              "</style>\n",
              "<table border=\"1\" class=\"dataframe\">\n",
              "  <thead>\n",
              "    <tr style=\"text-align: right;\">\n",
              "      <th></th>\n",
              "      <th>Date</th>\n",
              "      <th>Open</th>\n",
              "      <th>High</th>\n",
              "      <th>Low</th>\n",
              "      <th>Close</th>\n",
              "    </tr>\n",
              "  </thead>\n",
              "  <tbody>\n",
              "    <tr>\n",
              "      <th>0</th>\n",
              "      <td>Jul-05</td>\n",
              "      <td>13.00</td>\n",
              "      <td>14.00</td>\n",
              "      <td>11.25</td>\n",
              "      <td>12.46</td>\n",
              "    </tr>\n",
              "    <tr>\n",
              "      <th>1</th>\n",
              "      <td>Aug-05</td>\n",
              "      <td>12.58</td>\n",
              "      <td>14.88</td>\n",
              "      <td>12.55</td>\n",
              "      <td>13.42</td>\n",
              "    </tr>\n",
              "    <tr>\n",
              "      <th>2</th>\n",
              "      <td>Sep-05</td>\n",
              "      <td>13.48</td>\n",
              "      <td>14.87</td>\n",
              "      <td>12.27</td>\n",
              "      <td>13.30</td>\n",
              "    </tr>\n",
              "    <tr>\n",
              "      <th>3</th>\n",
              "      <td>Oct-05</td>\n",
              "      <td>13.20</td>\n",
              "      <td>14.47</td>\n",
              "      <td>12.40</td>\n",
              "      <td>12.99</td>\n",
              "    </tr>\n",
              "    <tr>\n",
              "      <th>4</th>\n",
              "      <td>Nov-05</td>\n",
              "      <td>13.35</td>\n",
              "      <td>13.88</td>\n",
              "      <td>12.88</td>\n",
              "      <td>13.41</td>\n",
              "    </tr>\n",
              "    <tr>\n",
              "      <th>...</th>\n",
              "      <td>...</td>\n",
              "      <td>...</td>\n",
              "      <td>...</td>\n",
              "      <td>...</td>\n",
              "      <td>...</td>\n",
              "    </tr>\n",
              "    <tr>\n",
              "      <th>180</th>\n",
              "      <td>Jul-20</td>\n",
              "      <td>25.60</td>\n",
              "      <td>28.30</td>\n",
              "      <td>11.10</td>\n",
              "      <td>11.95</td>\n",
              "    </tr>\n",
              "    <tr>\n",
              "      <th>181</th>\n",
              "      <td>Aug-20</td>\n",
              "      <td>12.00</td>\n",
              "      <td>17.16</td>\n",
              "      <td>11.85</td>\n",
              "      <td>14.37</td>\n",
              "    </tr>\n",
              "    <tr>\n",
              "      <th>182</th>\n",
              "      <td>Sep-20</td>\n",
              "      <td>14.30</td>\n",
              "      <td>15.34</td>\n",
              "      <td>12.75</td>\n",
              "      <td>13.15</td>\n",
              "    </tr>\n",
              "    <tr>\n",
              "      <th>183</th>\n",
              "      <td>Oct-20</td>\n",
              "      <td>13.30</td>\n",
              "      <td>14.01</td>\n",
              "      <td>12.11</td>\n",
              "      <td>12.42</td>\n",
              "    </tr>\n",
              "    <tr>\n",
              "      <th>184</th>\n",
              "      <td>Nov-20</td>\n",
              "      <td>12.41</td>\n",
              "      <td>14.90</td>\n",
              "      <td>12.21</td>\n",
              "      <td>14.67</td>\n",
              "    </tr>\n",
              "  </tbody>\n",
              "</table>\n",
              "<p>185 rows × 5 columns</p>\n",
              "</div>\n",
              "    <div class=\"colab-df-buttons\">\n",
              "\n",
              "  <div class=\"colab-df-container\">\n",
              "    <button class=\"colab-df-convert\" onclick=\"convertToInteractive('df-3a0051bc-388d-4273-ad3b-57ed0f270c0a')\"\n",
              "            title=\"Convert this dataframe to an interactive table.\"\n",
              "            style=\"display:none;\">\n",
              "\n",
              "  <svg xmlns=\"http://www.w3.org/2000/svg\" height=\"24px\" viewBox=\"0 -960 960 960\">\n",
              "    <path d=\"M120-120v-720h720v720H120Zm60-500h600v-160H180v160Zm220 220h160v-160H400v160Zm0 220h160v-160H400v160ZM180-400h160v-160H180v160Zm440 0h160v-160H620v160ZM180-180h160v-160H180v160Zm440 0h160v-160H620v160Z\"/>\n",
              "  </svg>\n",
              "    </button>\n",
              "\n",
              "  <style>\n",
              "    .colab-df-container {\n",
              "      display:flex;\n",
              "      gap: 12px;\n",
              "    }\n",
              "\n",
              "    .colab-df-convert {\n",
              "      background-color: #E8F0FE;\n",
              "      border: none;\n",
              "      border-radius: 50%;\n",
              "      cursor: pointer;\n",
              "      display: none;\n",
              "      fill: #1967D2;\n",
              "      height: 32px;\n",
              "      padding: 0 0 0 0;\n",
              "      width: 32px;\n",
              "    }\n",
              "\n",
              "    .colab-df-convert:hover {\n",
              "      background-color: #E2EBFA;\n",
              "      box-shadow: 0px 1px 2px rgba(60, 64, 67, 0.3), 0px 1px 3px 1px rgba(60, 64, 67, 0.15);\n",
              "      fill: #174EA6;\n",
              "    }\n",
              "\n",
              "    .colab-df-buttons div {\n",
              "      margin-bottom: 4px;\n",
              "    }\n",
              "\n",
              "    [theme=dark] .colab-df-convert {\n",
              "      background-color: #3B4455;\n",
              "      fill: #D2E3FC;\n",
              "    }\n",
              "\n",
              "    [theme=dark] .colab-df-convert:hover {\n",
              "      background-color: #434B5C;\n",
              "      box-shadow: 0px 1px 3px 1px rgba(0, 0, 0, 0.15);\n",
              "      filter: drop-shadow(0px 1px 2px rgba(0, 0, 0, 0.3));\n",
              "      fill: #FFFFFF;\n",
              "    }\n",
              "  </style>\n",
              "\n",
              "    <script>\n",
              "      const buttonEl =\n",
              "        document.querySelector('#df-3a0051bc-388d-4273-ad3b-57ed0f270c0a button.colab-df-convert');\n",
              "      buttonEl.style.display =\n",
              "        google.colab.kernel.accessAllowed ? 'block' : 'none';\n",
              "\n",
              "      async function convertToInteractive(key) {\n",
              "        const element = document.querySelector('#df-3a0051bc-388d-4273-ad3b-57ed0f270c0a');\n",
              "        const dataTable =\n",
              "          await google.colab.kernel.invokeFunction('convertToInteractive',\n",
              "                                                    [key], {});\n",
              "        if (!dataTable) return;\n",
              "\n",
              "        const docLinkHtml = 'Like what you see? Visit the ' +\n",
              "          '<a target=\"_blank\" href=https://colab.research.google.com/notebooks/data_table.ipynb>data table notebook</a>'\n",
              "          + ' to learn more about interactive tables.';\n",
              "        element.innerHTML = '';\n",
              "        dataTable['output_type'] = 'display_data';\n",
              "        await google.colab.output.renderOutput(dataTable, element);\n",
              "        const docLink = document.createElement('div');\n",
              "        docLink.innerHTML = docLinkHtml;\n",
              "        element.appendChild(docLink);\n",
              "      }\n",
              "    </script>\n",
              "  </div>\n",
              "\n",
              "\n",
              "<div id=\"df-61da1eee-e14d-4b74-83c2-66e299e7a3bc\">\n",
              "  <button class=\"colab-df-quickchart\" onclick=\"quickchart('df-61da1eee-e14d-4b74-83c2-66e299e7a3bc')\"\n",
              "            title=\"Suggest charts\"\n",
              "            style=\"display:none;\">\n",
              "\n",
              "<svg xmlns=\"http://www.w3.org/2000/svg\" height=\"24px\"viewBox=\"0 0 24 24\"\n",
              "     width=\"24px\">\n",
              "    <g>\n",
              "        <path d=\"M19 3H5c-1.1 0-2 .9-2 2v14c0 1.1.9 2 2 2h14c1.1 0 2-.9 2-2V5c0-1.1-.9-2-2-2zM9 17H7v-7h2v7zm4 0h-2V7h2v10zm4 0h-2v-4h2v4z\"/>\n",
              "    </g>\n",
              "</svg>\n",
              "  </button>\n",
              "\n",
              "<style>\n",
              "  .colab-df-quickchart {\n",
              "      --bg-color: #E8F0FE;\n",
              "      --fill-color: #1967D2;\n",
              "      --hover-bg-color: #E2EBFA;\n",
              "      --hover-fill-color: #174EA6;\n",
              "      --disabled-fill-color: #AAA;\n",
              "      --disabled-bg-color: #DDD;\n",
              "  }\n",
              "\n",
              "  [theme=dark] .colab-df-quickchart {\n",
              "      --bg-color: #3B4455;\n",
              "      --fill-color: #D2E3FC;\n",
              "      --hover-bg-color: #434B5C;\n",
              "      --hover-fill-color: #FFFFFF;\n",
              "      --disabled-bg-color: #3B4455;\n",
              "      --disabled-fill-color: #666;\n",
              "  }\n",
              "\n",
              "  .colab-df-quickchart {\n",
              "    background-color: var(--bg-color);\n",
              "    border: none;\n",
              "    border-radius: 50%;\n",
              "    cursor: pointer;\n",
              "    display: none;\n",
              "    fill: var(--fill-color);\n",
              "    height: 32px;\n",
              "    padding: 0;\n",
              "    width: 32px;\n",
              "  }\n",
              "\n",
              "  .colab-df-quickchart:hover {\n",
              "    background-color: var(--hover-bg-color);\n",
              "    box-shadow: 0 1px 2px rgba(60, 64, 67, 0.3), 0 1px 3px 1px rgba(60, 64, 67, 0.15);\n",
              "    fill: var(--button-hover-fill-color);\n",
              "  }\n",
              "\n",
              "  .colab-df-quickchart-complete:disabled,\n",
              "  .colab-df-quickchart-complete:disabled:hover {\n",
              "    background-color: var(--disabled-bg-color);\n",
              "    fill: var(--disabled-fill-color);\n",
              "    box-shadow: none;\n",
              "  }\n",
              "\n",
              "  .colab-df-spinner {\n",
              "    border: 2px solid var(--fill-color);\n",
              "    border-color: transparent;\n",
              "    border-bottom-color: var(--fill-color);\n",
              "    animation:\n",
              "      spin 1s steps(1) infinite;\n",
              "  }\n",
              "\n",
              "  @keyframes spin {\n",
              "    0% {\n",
              "      border-color: transparent;\n",
              "      border-bottom-color: var(--fill-color);\n",
              "      border-left-color: var(--fill-color);\n",
              "    }\n",
              "    20% {\n",
              "      border-color: transparent;\n",
              "      border-left-color: var(--fill-color);\n",
              "      border-top-color: var(--fill-color);\n",
              "    }\n",
              "    30% {\n",
              "      border-color: transparent;\n",
              "      border-left-color: var(--fill-color);\n",
              "      border-top-color: var(--fill-color);\n",
              "      border-right-color: var(--fill-color);\n",
              "    }\n",
              "    40% {\n",
              "      border-color: transparent;\n",
              "      border-right-color: var(--fill-color);\n",
              "      border-top-color: var(--fill-color);\n",
              "    }\n",
              "    60% {\n",
              "      border-color: transparent;\n",
              "      border-right-color: var(--fill-color);\n",
              "    }\n",
              "    80% {\n",
              "      border-color: transparent;\n",
              "      border-right-color: var(--fill-color);\n",
              "      border-bottom-color: var(--fill-color);\n",
              "    }\n",
              "    90% {\n",
              "      border-color: transparent;\n",
              "      border-bottom-color: var(--fill-color);\n",
              "    }\n",
              "  }\n",
              "</style>\n",
              "\n",
              "  <script>\n",
              "    async function quickchart(key) {\n",
              "      const quickchartButtonEl =\n",
              "        document.querySelector('#' + key + ' button');\n",
              "      quickchartButtonEl.disabled = true;  // To prevent multiple clicks.\n",
              "      quickchartButtonEl.classList.add('colab-df-spinner');\n",
              "      try {\n",
              "        const charts = await google.colab.kernel.invokeFunction(\n",
              "            'suggestCharts', [key], {});\n",
              "      } catch (error) {\n",
              "        console.error('Error during call to suggestCharts:', error);\n",
              "      }\n",
              "      quickchartButtonEl.classList.remove('colab-df-spinner');\n",
              "      quickchartButtonEl.classList.add('colab-df-quickchart-complete');\n",
              "    }\n",
              "    (() => {\n",
              "      let quickchartButtonEl =\n",
              "        document.querySelector('#df-61da1eee-e14d-4b74-83c2-66e299e7a3bc button');\n",
              "      quickchartButtonEl.style.display =\n",
              "        google.colab.kernel.accessAllowed ? 'block' : 'none';\n",
              "    })();\n",
              "  </script>\n",
              "</div>\n",
              "\n",
              "  <div id=\"id_8b89a617-d9a0-43d4-b8a9-185fb7368b57\">\n",
              "    <style>\n",
              "      .colab-df-generate {\n",
              "        background-color: #E8F0FE;\n",
              "        border: none;\n",
              "        border-radius: 50%;\n",
              "        cursor: pointer;\n",
              "        display: none;\n",
              "        fill: #1967D2;\n",
              "        height: 32px;\n",
              "        padding: 0 0 0 0;\n",
              "        width: 32px;\n",
              "      }\n",
              "\n",
              "      .colab-df-generate:hover {\n",
              "        background-color: #E2EBFA;\n",
              "        box-shadow: 0px 1px 2px rgba(60, 64, 67, 0.3), 0px 1px 3px 1px rgba(60, 64, 67, 0.15);\n",
              "        fill: #174EA6;\n",
              "      }\n",
              "\n",
              "      [theme=dark] .colab-df-generate {\n",
              "        background-color: #3B4455;\n",
              "        fill: #D2E3FC;\n",
              "      }\n",
              "\n",
              "      [theme=dark] .colab-df-generate:hover {\n",
              "        background-color: #434B5C;\n",
              "        box-shadow: 0px 1px 3px 1px rgba(0, 0, 0, 0.15);\n",
              "        filter: drop-shadow(0px 1px 2px rgba(0, 0, 0, 0.3));\n",
              "        fill: #FFFFFF;\n",
              "      }\n",
              "    </style>\n",
              "    <button class=\"colab-df-generate\" onclick=\"generateWithVariable('data')\"\n",
              "            title=\"Generate code using this dataframe.\"\n",
              "            style=\"display:none;\">\n",
              "\n",
              "  <svg xmlns=\"http://www.w3.org/2000/svg\" height=\"24px\"viewBox=\"0 0 24 24\"\n",
              "       width=\"24px\">\n",
              "    <path d=\"M7,19H8.4L18.45,9,17,7.55,7,17.6ZM5,21V16.75L18.45,3.32a2,2,0,0,1,2.83,0l1.4,1.43a1.91,1.91,0,0,1,.58,1.4,1.91,1.91,0,0,1-.58,1.4L9.25,21ZM18.45,9,17,7.55Zm-12,3A5.31,5.31,0,0,0,4.9,8.1,5.31,5.31,0,0,0,1,6.5,5.31,5.31,0,0,0,4.9,4.9,5.31,5.31,0,0,0,6.5,1,5.31,5.31,0,0,0,8.1,4.9,5.31,5.31,0,0,0,12,6.5,5.46,5.46,0,0,0,6.5,12Z\"/>\n",
              "  </svg>\n",
              "    </button>\n",
              "    <script>\n",
              "      (() => {\n",
              "      const buttonEl =\n",
              "        document.querySelector('#id_8b89a617-d9a0-43d4-b8a9-185fb7368b57 button.colab-df-generate');\n",
              "      buttonEl.style.display =\n",
              "        google.colab.kernel.accessAllowed ? 'block' : 'none';\n",
              "\n",
              "      buttonEl.onclick = () => {\n",
              "        google.colab.notebook.generateWithVariable('data');\n",
              "      }\n",
              "      })();\n",
              "    </script>\n",
              "  </div>\n",
              "\n",
              "    </div>\n",
              "  </div>\n"
            ],
            "application/vnd.google.colaboratory.intrinsic+json": {
              "type": "dataframe",
              "variable_name": "data",
              "summary": "{\n  \"name\": \"data\",\n  \"rows\": 185,\n  \"fields\": [\n    {\n      \"column\": \"Date\",\n      \"properties\": {\n        \"dtype\": \"string\",\n        \"num_unique_values\": 185,\n        \"samples\": [\n          \"Feb-07\",\n          \"Jan-09\",\n          \"Jul-18\"\n        ],\n        \"semantic_type\": \"\",\n        \"description\": \"\"\n      }\n    },\n    {\n      \"column\": \"Open\",\n      \"properties\": {\n        \"dtype\": \"number\",\n        \"std\": 98.87984957695843,\n        \"min\": 10.0,\n        \"max\": 369.95,\n        \"num_unique_values\": 183,\n        \"samples\": [\n          30.2,\n          15.28,\n          348.0\n        ],\n        \"semantic_type\": \"\",\n        \"description\": \"\"\n      }\n    },\n    {\n      \"column\": \"High\",\n      \"properties\": {\n        \"dtype\": \"number\",\n        \"std\": 106.33349683743525,\n        \"min\": 11.24,\n        \"max\": 404.0,\n        \"num_unique_values\": 184,\n        \"samples\": [\n          32.6,\n          18.34,\n          393.35\n        ],\n        \"semantic_type\": \"\",\n        \"description\": \"\"\n      }\n    },\n    {\n      \"column\": \"Low\",\n      \"properties\": {\n        \"dtype\": \"number\",\n        \"std\": 91.2194154859808,\n        \"min\": 5.55,\n        \"max\": 345.5,\n        \"num_unique_values\": 183,\n        \"samples\": [\n          26.8,\n          9.9,\n          332.45\n        ],\n        \"semantic_type\": \"\",\n        \"description\": \"\"\n      }\n    },\n    {\n      \"column\": \"Close\",\n      \"properties\": {\n        \"dtype\": \"number\",\n        \"std\": 98.58315263645535,\n        \"min\": 9.98,\n        \"max\": 367.9,\n        \"num_unique_values\": 185,\n        \"samples\": [\n          28.63,\n          12.24,\n          367.9\n        ],\n        \"semantic_type\": \"\",\n        \"description\": \"\"\n      }\n    }\n  ]\n}"
            }
          },
          "metadata": {},
          "execution_count": 5
        }
      ]
    },
    {
      "cell_type": "markdown",
      "source": [
        "### Dataset Rows & Columns count"
      ],
      "metadata": {
        "id": "lXN45W5Pki12"
      }
    },
    {
      "cell_type": "code",
      "source": [
        "# Dataset Rows & Columns count\n",
        "data.shape"
      ],
      "metadata": {
        "colab": {
          "base_uri": "https://localhost:8080/"
        },
        "id": "JF6iBONnklC3",
        "outputId": "30b8aa04-7b2c-4f05-94bd-85f3d96b4466"
      },
      "execution_count": 6,
      "outputs": [
        {
          "output_type": "execute_result",
          "data": {
            "text/plain": [
              "(185, 5)"
            ]
          },
          "metadata": {},
          "execution_count": 6
        }
      ]
    },
    {
      "cell_type": "markdown",
      "source": [
        "### Dataset Information"
      ],
      "metadata": {
        "id": "hUi3w4-Kkrcg"
      }
    },
    {
      "cell_type": "code",
      "source": [
        "# Dataset Information\n",
        "data.info()"
      ],
      "metadata": {
        "colab": {
          "base_uri": "https://localhost:8080/"
        },
        "id": "wPYG_PixkobW",
        "outputId": "e91e1835-9f36-472f-b083-541665f3cf24"
      },
      "execution_count": 7,
      "outputs": [
        {
          "output_type": "stream",
          "name": "stdout",
          "text": [
            "<class 'pandas.core.frame.DataFrame'>\n",
            "RangeIndex: 185 entries, 0 to 184\n",
            "Data columns (total 5 columns):\n",
            " #   Column  Non-Null Count  Dtype  \n",
            "---  ------  --------------  -----  \n",
            " 0   Date    185 non-null    object \n",
            " 1   Open    185 non-null    float64\n",
            " 2   High    185 non-null    float64\n",
            " 3   Low     185 non-null    float64\n",
            " 4   Close   185 non-null    float64\n",
            "dtypes: float64(4), object(1)\n",
            "memory usage: 7.4+ KB\n"
          ]
        }
      ]
    },
    {
      "cell_type": "markdown",
      "source": [
        "### Dataset Information"
      ],
      "metadata": {
        "id": "80ZONWuAk3CG"
      }
    },
    {
      "cell_type": "code",
      "source": [
        "# Dataset Duplicate Value Count\n",
        "data.duplicated().sum()"
      ],
      "metadata": {
        "colab": {
          "base_uri": "https://localhost:8080/"
        },
        "id": "s-Ov4zx1kxLe",
        "outputId": "74d0d1be-90cd-4f63-8fb1-0d8ea3b76da0"
      },
      "execution_count": 8,
      "outputs": [
        {
          "output_type": "execute_result",
          "data": {
            "text/plain": [
              "0"
            ]
          },
          "metadata": {},
          "execution_count": 8
        }
      ]
    },
    {
      "cell_type": "markdown",
      "source": [
        "#### Missing Values/Null Values"
      ],
      "metadata": {
        "id": "PzipgMellDRd"
      }
    },
    {
      "cell_type": "code",
      "source": [
        "# Missing Values/Null Values Count\n",
        "data.isnull().sum()\n"
      ],
      "metadata": {
        "colab": {
          "base_uri": "https://localhost:8080/"
        },
        "id": "Im-sm3oZk2Hq",
        "outputId": "c05ea8cd-700b-4cbf-9b47-3953a770f35a"
      },
      "execution_count": 9,
      "outputs": [
        {
          "output_type": "execute_result",
          "data": {
            "text/plain": [
              "Date     0\n",
              "Open     0\n",
              "High     0\n",
              "Low      0\n",
              "Close    0\n",
              "dtype: int64"
            ]
          },
          "metadata": {},
          "execution_count": 9
        }
      ]
    },
    {
      "cell_type": "markdown",
      "source": [
        "### What did you know about your dataset?"
      ],
      "metadata": {
        "id": "DYVl6FuAlTc5"
      }
    },
    {
      "cell_type": "markdown",
      "source": [
        "As we can see, there are 185 rows and 5 columns i.e. ['Date', 'Open', 'High', 'Low', 'Close']. There are zero duplicates values and non-null values. Also there is no missing values."
      ],
      "metadata": {
        "id": "m-GmgR-glXXi"
      }
    },
    {
      "cell_type": "markdown",
      "source": [
        "## ***2. Understanding Your Variables***"
      ],
      "metadata": {
        "id": "O5o_wRE6lbkH"
      }
    },
    {
      "cell_type": "code",
      "source": [
        "# Dataset Columns\n",
        "data.columns"
      ],
      "metadata": {
        "colab": {
          "base_uri": "https://localhost:8080/"
        },
        "id": "eV-7JdKclJoV",
        "outputId": "5766a4cd-8630-4f4c-9cbf-5811b3c220df"
      },
      "execution_count": 10,
      "outputs": [
        {
          "output_type": "execute_result",
          "data": {
            "text/plain": [
              "Index(['Date', 'Open', 'High', 'Low', 'Close'], dtype='object')"
            ]
          },
          "metadata": {},
          "execution_count": 10
        }
      ]
    },
    {
      "cell_type": "code",
      "source": [
        "# Dataset Describe\n",
        "data.describe()"
      ],
      "metadata": {
        "colab": {
          "base_uri": "https://localhost:8080/",
          "height": 300
        },
        "id": "f04bnhrRlg13",
        "outputId": "bb4e648e-1e06-4de9-ba9a-2c839834288e"
      },
      "execution_count": 11,
      "outputs": [
        {
          "output_type": "execute_result",
          "data": {
            "text/plain": [
              "             Open        High         Low       Close\n",
              "count  185.000000  185.000000  185.000000  185.000000\n",
              "mean   105.541405  116.104324   94.947838  105.204703\n",
              "std     98.879850  106.333497   91.219415   98.583153\n",
              "min     10.000000   11.240000    5.550000    9.980000\n",
              "25%     33.800000   36.140000   28.510000   33.450000\n",
              "50%     62.980000   72.550000   58.000000   62.540000\n",
              "75%    153.000000  169.190000  138.350000  153.300000\n",
              "max    369.950000  404.000000  345.500000  367.900000"
            ],
            "text/html": [
              "\n",
              "  <div id=\"df-71936662-7f66-420a-ac67-9f9076268830\" class=\"colab-df-container\">\n",
              "    <div>\n",
              "<style scoped>\n",
              "    .dataframe tbody tr th:only-of-type {\n",
              "        vertical-align: middle;\n",
              "    }\n",
              "\n",
              "    .dataframe tbody tr th {\n",
              "        vertical-align: top;\n",
              "    }\n",
              "\n",
              "    .dataframe thead th {\n",
              "        text-align: right;\n",
              "    }\n",
              "</style>\n",
              "<table border=\"1\" class=\"dataframe\">\n",
              "  <thead>\n",
              "    <tr style=\"text-align: right;\">\n",
              "      <th></th>\n",
              "      <th>Open</th>\n",
              "      <th>High</th>\n",
              "      <th>Low</th>\n",
              "      <th>Close</th>\n",
              "    </tr>\n",
              "  </thead>\n",
              "  <tbody>\n",
              "    <tr>\n",
              "      <th>count</th>\n",
              "      <td>185.000000</td>\n",
              "      <td>185.000000</td>\n",
              "      <td>185.000000</td>\n",
              "      <td>185.000000</td>\n",
              "    </tr>\n",
              "    <tr>\n",
              "      <th>mean</th>\n",
              "      <td>105.541405</td>\n",
              "      <td>116.104324</td>\n",
              "      <td>94.947838</td>\n",
              "      <td>105.204703</td>\n",
              "    </tr>\n",
              "    <tr>\n",
              "      <th>std</th>\n",
              "      <td>98.879850</td>\n",
              "      <td>106.333497</td>\n",
              "      <td>91.219415</td>\n",
              "      <td>98.583153</td>\n",
              "    </tr>\n",
              "    <tr>\n",
              "      <th>min</th>\n",
              "      <td>10.000000</td>\n",
              "      <td>11.240000</td>\n",
              "      <td>5.550000</td>\n",
              "      <td>9.980000</td>\n",
              "    </tr>\n",
              "    <tr>\n",
              "      <th>25%</th>\n",
              "      <td>33.800000</td>\n",
              "      <td>36.140000</td>\n",
              "      <td>28.510000</td>\n",
              "      <td>33.450000</td>\n",
              "    </tr>\n",
              "    <tr>\n",
              "      <th>50%</th>\n",
              "      <td>62.980000</td>\n",
              "      <td>72.550000</td>\n",
              "      <td>58.000000</td>\n",
              "      <td>62.540000</td>\n",
              "    </tr>\n",
              "    <tr>\n",
              "      <th>75%</th>\n",
              "      <td>153.000000</td>\n",
              "      <td>169.190000</td>\n",
              "      <td>138.350000</td>\n",
              "      <td>153.300000</td>\n",
              "    </tr>\n",
              "    <tr>\n",
              "      <th>max</th>\n",
              "      <td>369.950000</td>\n",
              "      <td>404.000000</td>\n",
              "      <td>345.500000</td>\n",
              "      <td>367.900000</td>\n",
              "    </tr>\n",
              "  </tbody>\n",
              "</table>\n",
              "</div>\n",
              "    <div class=\"colab-df-buttons\">\n",
              "\n",
              "  <div class=\"colab-df-container\">\n",
              "    <button class=\"colab-df-convert\" onclick=\"convertToInteractive('df-71936662-7f66-420a-ac67-9f9076268830')\"\n",
              "            title=\"Convert this dataframe to an interactive table.\"\n",
              "            style=\"display:none;\">\n",
              "\n",
              "  <svg xmlns=\"http://www.w3.org/2000/svg\" height=\"24px\" viewBox=\"0 -960 960 960\">\n",
              "    <path d=\"M120-120v-720h720v720H120Zm60-500h600v-160H180v160Zm220 220h160v-160H400v160Zm0 220h160v-160H400v160ZM180-400h160v-160H180v160Zm440 0h160v-160H620v160ZM180-180h160v-160H180v160Zm440 0h160v-160H620v160Z\"/>\n",
              "  </svg>\n",
              "    </button>\n",
              "\n",
              "  <style>\n",
              "    .colab-df-container {\n",
              "      display:flex;\n",
              "      gap: 12px;\n",
              "    }\n",
              "\n",
              "    .colab-df-convert {\n",
              "      background-color: #E8F0FE;\n",
              "      border: none;\n",
              "      border-radius: 50%;\n",
              "      cursor: pointer;\n",
              "      display: none;\n",
              "      fill: #1967D2;\n",
              "      height: 32px;\n",
              "      padding: 0 0 0 0;\n",
              "      width: 32px;\n",
              "    }\n",
              "\n",
              "    .colab-df-convert:hover {\n",
              "      background-color: #E2EBFA;\n",
              "      box-shadow: 0px 1px 2px rgba(60, 64, 67, 0.3), 0px 1px 3px 1px rgba(60, 64, 67, 0.15);\n",
              "      fill: #174EA6;\n",
              "    }\n",
              "\n",
              "    .colab-df-buttons div {\n",
              "      margin-bottom: 4px;\n",
              "    }\n",
              "\n",
              "    [theme=dark] .colab-df-convert {\n",
              "      background-color: #3B4455;\n",
              "      fill: #D2E3FC;\n",
              "    }\n",
              "\n",
              "    [theme=dark] .colab-df-convert:hover {\n",
              "      background-color: #434B5C;\n",
              "      box-shadow: 0px 1px 3px 1px rgba(0, 0, 0, 0.15);\n",
              "      filter: drop-shadow(0px 1px 2px rgba(0, 0, 0, 0.3));\n",
              "      fill: #FFFFFF;\n",
              "    }\n",
              "  </style>\n",
              "\n",
              "    <script>\n",
              "      const buttonEl =\n",
              "        document.querySelector('#df-71936662-7f66-420a-ac67-9f9076268830 button.colab-df-convert');\n",
              "      buttonEl.style.display =\n",
              "        google.colab.kernel.accessAllowed ? 'block' : 'none';\n",
              "\n",
              "      async function convertToInteractive(key) {\n",
              "        const element = document.querySelector('#df-71936662-7f66-420a-ac67-9f9076268830');\n",
              "        const dataTable =\n",
              "          await google.colab.kernel.invokeFunction('convertToInteractive',\n",
              "                                                    [key], {});\n",
              "        if (!dataTable) return;\n",
              "\n",
              "        const docLinkHtml = 'Like what you see? Visit the ' +\n",
              "          '<a target=\"_blank\" href=https://colab.research.google.com/notebooks/data_table.ipynb>data table notebook</a>'\n",
              "          + ' to learn more about interactive tables.';\n",
              "        element.innerHTML = '';\n",
              "        dataTable['output_type'] = 'display_data';\n",
              "        await google.colab.output.renderOutput(dataTable, element);\n",
              "        const docLink = document.createElement('div');\n",
              "        docLink.innerHTML = docLinkHtml;\n",
              "        element.appendChild(docLink);\n",
              "      }\n",
              "    </script>\n",
              "  </div>\n",
              "\n",
              "\n",
              "<div id=\"df-0c3c8619-f269-4b27-b089-59cbc5bb1972\">\n",
              "  <button class=\"colab-df-quickchart\" onclick=\"quickchart('df-0c3c8619-f269-4b27-b089-59cbc5bb1972')\"\n",
              "            title=\"Suggest charts\"\n",
              "            style=\"display:none;\">\n",
              "\n",
              "<svg xmlns=\"http://www.w3.org/2000/svg\" height=\"24px\"viewBox=\"0 0 24 24\"\n",
              "     width=\"24px\">\n",
              "    <g>\n",
              "        <path d=\"M19 3H5c-1.1 0-2 .9-2 2v14c0 1.1.9 2 2 2h14c1.1 0 2-.9 2-2V5c0-1.1-.9-2-2-2zM9 17H7v-7h2v7zm4 0h-2V7h2v10zm4 0h-2v-4h2v4z\"/>\n",
              "    </g>\n",
              "</svg>\n",
              "  </button>\n",
              "\n",
              "<style>\n",
              "  .colab-df-quickchart {\n",
              "      --bg-color: #E8F0FE;\n",
              "      --fill-color: #1967D2;\n",
              "      --hover-bg-color: #E2EBFA;\n",
              "      --hover-fill-color: #174EA6;\n",
              "      --disabled-fill-color: #AAA;\n",
              "      --disabled-bg-color: #DDD;\n",
              "  }\n",
              "\n",
              "  [theme=dark] .colab-df-quickchart {\n",
              "      --bg-color: #3B4455;\n",
              "      --fill-color: #D2E3FC;\n",
              "      --hover-bg-color: #434B5C;\n",
              "      --hover-fill-color: #FFFFFF;\n",
              "      --disabled-bg-color: #3B4455;\n",
              "      --disabled-fill-color: #666;\n",
              "  }\n",
              "\n",
              "  .colab-df-quickchart {\n",
              "    background-color: var(--bg-color);\n",
              "    border: none;\n",
              "    border-radius: 50%;\n",
              "    cursor: pointer;\n",
              "    display: none;\n",
              "    fill: var(--fill-color);\n",
              "    height: 32px;\n",
              "    padding: 0;\n",
              "    width: 32px;\n",
              "  }\n",
              "\n",
              "  .colab-df-quickchart:hover {\n",
              "    background-color: var(--hover-bg-color);\n",
              "    box-shadow: 0 1px 2px rgba(60, 64, 67, 0.3), 0 1px 3px 1px rgba(60, 64, 67, 0.15);\n",
              "    fill: var(--button-hover-fill-color);\n",
              "  }\n",
              "\n",
              "  .colab-df-quickchart-complete:disabled,\n",
              "  .colab-df-quickchart-complete:disabled:hover {\n",
              "    background-color: var(--disabled-bg-color);\n",
              "    fill: var(--disabled-fill-color);\n",
              "    box-shadow: none;\n",
              "  }\n",
              "\n",
              "  .colab-df-spinner {\n",
              "    border: 2px solid var(--fill-color);\n",
              "    border-color: transparent;\n",
              "    border-bottom-color: var(--fill-color);\n",
              "    animation:\n",
              "      spin 1s steps(1) infinite;\n",
              "  }\n",
              "\n",
              "  @keyframes spin {\n",
              "    0% {\n",
              "      border-color: transparent;\n",
              "      border-bottom-color: var(--fill-color);\n",
              "      border-left-color: var(--fill-color);\n",
              "    }\n",
              "    20% {\n",
              "      border-color: transparent;\n",
              "      border-left-color: var(--fill-color);\n",
              "      border-top-color: var(--fill-color);\n",
              "    }\n",
              "    30% {\n",
              "      border-color: transparent;\n",
              "      border-left-color: var(--fill-color);\n",
              "      border-top-color: var(--fill-color);\n",
              "      border-right-color: var(--fill-color);\n",
              "    }\n",
              "    40% {\n",
              "      border-color: transparent;\n",
              "      border-right-color: var(--fill-color);\n",
              "      border-top-color: var(--fill-color);\n",
              "    }\n",
              "    60% {\n",
              "      border-color: transparent;\n",
              "      border-right-color: var(--fill-color);\n",
              "    }\n",
              "    80% {\n",
              "      border-color: transparent;\n",
              "      border-right-color: var(--fill-color);\n",
              "      border-bottom-color: var(--fill-color);\n",
              "    }\n",
              "    90% {\n",
              "      border-color: transparent;\n",
              "      border-bottom-color: var(--fill-color);\n",
              "    }\n",
              "  }\n",
              "</style>\n",
              "\n",
              "  <script>\n",
              "    async function quickchart(key) {\n",
              "      const quickchartButtonEl =\n",
              "        document.querySelector('#' + key + ' button');\n",
              "      quickchartButtonEl.disabled = true;  // To prevent multiple clicks.\n",
              "      quickchartButtonEl.classList.add('colab-df-spinner');\n",
              "      try {\n",
              "        const charts = await google.colab.kernel.invokeFunction(\n",
              "            'suggestCharts', [key], {});\n",
              "      } catch (error) {\n",
              "        console.error('Error during call to suggestCharts:', error);\n",
              "      }\n",
              "      quickchartButtonEl.classList.remove('colab-df-spinner');\n",
              "      quickchartButtonEl.classList.add('colab-df-quickchart-complete');\n",
              "    }\n",
              "    (() => {\n",
              "      let quickchartButtonEl =\n",
              "        document.querySelector('#df-0c3c8619-f269-4b27-b089-59cbc5bb1972 button');\n",
              "      quickchartButtonEl.style.display =\n",
              "        google.colab.kernel.accessAllowed ? 'block' : 'none';\n",
              "    })();\n",
              "  </script>\n",
              "</div>\n",
              "\n",
              "    </div>\n",
              "  </div>\n"
            ],
            "application/vnd.google.colaboratory.intrinsic+json": {
              "type": "dataframe",
              "summary": "{\n  \"name\": \"data\",\n  \"rows\": 8,\n  \"fields\": [\n    {\n      \"column\": \"Open\",\n      \"properties\": {\n        \"dtype\": \"number\",\n        \"std\": 113.88495180964375,\n        \"min\": 10.0,\n        \"max\": 369.95,\n        \"num_unique_values\": 8,\n        \"samples\": [\n          105.5414054054054,\n          62.98,\n          185.0\n        ],\n        \"semantic_type\": \"\",\n        \"description\": \"\"\n      }\n    },\n    {\n      \"column\": \"High\",\n      \"properties\": {\n        \"dtype\": \"number\",\n        \"std\": 123.14090811600738,\n        \"min\": 11.24,\n        \"max\": 404.0,\n        \"num_unique_values\": 8,\n        \"samples\": [\n          116.10432432432432,\n          72.55,\n          185.0\n        ],\n        \"semantic_type\": \"\",\n        \"description\": \"\"\n      }\n    },\n    {\n      \"column\": \"Low\",\n      \"properties\": {\n        \"dtype\": \"number\",\n        \"std\": 108.33826213779346,\n        \"min\": 5.55,\n        \"max\": 345.5,\n        \"num_unique_values\": 8,\n        \"samples\": [\n          94.94783783783782,\n          58.0,\n          185.0\n        ],\n        \"semantic_type\": \"\",\n        \"description\": \"\"\n      }\n    },\n    {\n      \"column\": \"Close\",\n      \"properties\": {\n        \"dtype\": \"number\",\n        \"std\": 113.37134084587376,\n        \"min\": 9.98,\n        \"max\": 367.9,\n        \"num_unique_values\": 8,\n        \"samples\": [\n          105.2047027027027,\n          62.54,\n          185.0\n        ],\n        \"semantic_type\": \"\",\n        \"description\": \"\"\n      }\n    }\n  ]\n}"
            }
          },
          "metadata": {},
          "execution_count": 11
        }
      ]
    },
    {
      "cell_type": "markdown",
      "source": [
        "### Variables Description"
      ],
      "metadata": {
        "id": "jZdj_G9vlqTg"
      }
    },
    {
      "cell_type": "markdown",
      "source": [
        "There are five variables in this dataset. i.e. 'Date', 'Open', 'High', 'Low', 'Close'. Out of these..\n",
        "\n",
        "**Independent Variable** are: Date, Open, High and Low\n",
        "\n",
        "**Dependent Variable**: Close.\n",
        "\n",
        "**'Date':** Represents the date of the stock market data.\n",
        "\n",
        "**'Open':** Denotes the opening price of the stock on a particular date.\n",
        "\n",
        "**'High':** Indicates the highest price reached by the stock during the trading day.\n",
        "\n",
        "**'Low':** Represents the lowest price reached by the stock during the trading day.\n",
        "\n",
        "**'Close':** Denotes the closing price of the stock on a particular date.\n",
        "\n",
        "In describe dataset, the maximum stock price open by 369.95 points and closed by 367.90 points and minimum stock price open by 105.54 and close by approx. same points."
      ],
      "metadata": {
        "id": "zcI5Pw05l12Q"
      }
    },
    {
      "cell_type": "markdown",
      "source": [
        "### Check Unique Values for each variable."
      ],
      "metadata": {
        "id": "nL7leR1Fl9dv"
      }
    },
    {
      "cell_type": "code",
      "source": [
        "# Check Unique Values for each variable.\n",
        "\n",
        "for column in data.columns:\n",
        "    unique_values = data[column].unique()\n",
        "    print(f\"Unique values for {column}:\", unique_values)"
      ],
      "metadata": {
        "colab": {
          "base_uri": "https://localhost:8080/"
        },
        "id": "MM-wKlpblkBU",
        "outputId": "7618110b-5417-4756-ef3f-231a0d24cf29"
      },
      "execution_count": 12,
      "outputs": [
        {
          "output_type": "stream",
          "name": "stdout",
          "text": [
            "Unique values for Date: ['Jul-05' 'Aug-05' 'Sep-05' 'Oct-05' 'Nov-05' 'Dec-05' 'Jan-06' 'Feb-06'\n",
            " 'Mar-06' 'Apr-06' 'May-06' 'Jun-06' 'Jul-06' 'Aug-06' 'Sep-06' 'Oct-06'\n",
            " 'Nov-06' 'Dec-06' 'Jan-07' 'Feb-07' 'Mar-07' 'Apr-07' 'May-07' 'Jun-07'\n",
            " 'Jul-07' 'Aug-07' 'Sep-07' 'Oct-07' 'Nov-07' 'Dec-07' 'Jan-08' 'Feb-08'\n",
            " 'Mar-08' 'Apr-08' 'May-08' 'Jun-08' 'Jul-08' 'Aug-08' 'Sep-08' 'Oct-08'\n",
            " 'Nov-08' 'Dec-08' 'Jan-09' 'Feb-09' 'Mar-09' 'Apr-09' 'May-09' 'Jun-09'\n",
            " 'Jul-09' 'Aug-09' 'Sep-09' 'Oct-09' 'Nov-09' 'Dec-09' 'Jan-10' 'Feb-10'\n",
            " 'Mar-10' 'Apr-10' 'May-10' 'Jun-10' 'Jul-10' 'Aug-10' 'Sep-10' 'Oct-10'\n",
            " 'Nov-10' 'Dec-10' 'Jan-11' 'Feb-11' 'Mar-11' 'Apr-11' 'May-11' 'Jun-11'\n",
            " 'Jul-11' 'Aug-11' 'Sep-11' 'Oct-11' 'Nov-11' 'Dec-11' 'Jan-12' 'Feb-12'\n",
            " 'Mar-12' 'Apr-12' 'May-12' 'Jun-12' 'Jul-12' 'Aug-12' 'Sep-12' 'Oct-12'\n",
            " 'Nov-12' 'Dec-12' 'Jan-13' 'Feb-13' 'Mar-13' 'Apr-13' 'May-13' 'Jun-13'\n",
            " 'Jul-13' 'Aug-13' 'Sep-13' 'Oct-13' 'Nov-13' 'Dec-13' 'Jan-14' 'Feb-14'\n",
            " 'Mar-14' 'Apr-14' 'May-14' 'Jun-14' 'Jul-14' 'Aug-14' 'Sep-14' 'Oct-14'\n",
            " 'Nov-14' 'Dec-14' 'Jan-15' 'Feb-15' 'Mar-15' 'Apr-15' 'May-15' 'Jun-15'\n",
            " 'Jul-15' 'Aug-15' 'Sep-15' 'Oct-15' 'Nov-15' 'Dec-15' 'Jan-16' 'Feb-16'\n",
            " 'Mar-16' 'Apr-16' 'May-16' 'Jun-16' 'Jul-16' 'Aug-16' 'Sep-16' 'Oct-16'\n",
            " 'Nov-16' 'Dec-16' 'Jan-17' 'Feb-17' 'Mar-17' 'Apr-17' 'May-17' 'Jun-17'\n",
            " 'Jul-17' 'Aug-17' 'Sep-17' 'Oct-17' 'Nov-17' 'Dec-17' 'Jan-18' 'Feb-18'\n",
            " 'Mar-18' 'Apr-18' 'May-18' 'Jun-18' 'Jul-18' 'Aug-18' 'Sep-18' 'Oct-18'\n",
            " 'Nov-18' 'Dec-18' 'Jan-19' 'Feb-19' 'Mar-19' 'Apr-19' 'May-19' 'Jun-19'\n",
            " 'Jul-19' 'Aug-19' 'Sep-19' 'Oct-19' 'Nov-19' 'Dec-19' 'Jan-20' 'Feb-20'\n",
            " 'Mar-20' 'Apr-20' 'May-20' 'Jun-20' 'Jul-20' 'Aug-20' 'Sep-20' 'Oct-20'\n",
            " 'Nov-20']\n",
            "Unique values for Open: [ 13.    12.58  13.48  13.2   13.35  13.49  13.68  15.5   16.2   20.56\n",
            "  19.8   18.2   16.    15.9   18.    18.78  22.8   25.4   27.4   30.2\n",
            "  29.3   27.    30.66  33.89  35.98  37.5   37.4   41.8   44.4   46.4\n",
            "  49.99  50.88  48.9   33.9   34.3   31.22  22.85  25.    26.68  24.6\n",
            "  14.79  12.4   15.28  12.19  10.    10.04  15.94  25.6   29.7   31.98\n",
            "  33.8   41.2   46.58  50.98  53.6   49.    47.8   50.67  56.94  56.7\n",
            "  53.55  59.4   62.8   70.9   72.2   61.8   62.98  53.    51.84  62.\n",
            "  61.26  60.4   63.    62.9   56.    53.8   62.2   57.    47.92  65.9\n",
            "  69.    73.62  70.4   65.45  68.15  73.    66.2   76.4   82.54  89.2\n",
            "  93.2  104.41  94.    85.7  100.99  99.    92.4   66.    49.2   58.\n",
            "  74.    74.4   74.74  61.54  60.52  83.45  88.8  114.8  108.43 107.4\n",
            " 114.6  112.1  137.1  142.08 154.4  172.5  174.8  162.8  170.   177.\n",
            " 169.   165.9  135.61 146.96 151.73 153.   145.   150.4  138.8  172.02\n",
            " 189.8  206.4  221.96 244.   273.3  253.41 255.   235.4  231.98 280.4\n",
            " 290.6  309.6  326.   286.66 293.04 363.   351.   354.6  315.5  307.2\n",
            " 314.   355.   320.7  305.   362.85 348.   340.   369.95 347.2  180.\n",
            " 192.   174.   182.85 197.   234.6  277.   163.3  147.95 109.6   59.5\n",
            "  42.    71.    70.    46.9   39.1   35.2   22.3   27.8   27.75  12.\n",
            "  14.3   13.3   12.41]\n",
            "Unique values for High: [ 14.    14.88  14.87  14.47  13.88  14.44  17.16  16.97  20.95  20.8\n",
            "  21.8   18.4   17.2   18.6   18.88  24.2   28.47  29.66  34.16  32.6\n",
            "  31.58  31.99  36.14  36.38  41.04  39.    41.75  47.3   50.98  54.\n",
            "  55.56  53.97  48.9   35.8   36.88  32.22  30.5   28.98  29.8   25.\n",
            "  17.8   16.56  18.34  12.5   11.24  17.51  28.84  31.08  33.16  35.18\n",
            "  41.3   52.34  54.98  55.67  57.58  51.48  52.06  59.48  58.08  59.9\n",
            "  60.94  68.88  71.74  76.    77.6   68.36  63.54  57.69  65.2   68.26\n",
            "  61.68  63.39  68.    63.96  60.08  64.8   63.7   59.8   66.5   74.8\n",
            "  77.88  76.1   70.59  70.6   73.19  74.78  77.69  84.2   89.6   95.\n",
            " 107.   107.8  100.15 101.8  109.43 102.94 100.4   67.81  78.94  76.44\n",
            "  77.27  83.    76.35  62.7   83.36  94.98 117.6  117.57 114.46 118.69\n",
            " 126.85 137.8  143.91 155.   179.   173.88 182.   172.8  176.96 179.4\n",
            " 175.58 169.19 155.5  155.94 157.96 154.52 149.9  157.85 175.12 190.44\n",
            " 209.   223.   247.18 275.   290.   265.5  262.72 245.   284.31 294.19\n",
            " 311.57 330.58 330.3  306.34 372.   368.52 383.25 375.75 329.8  319.\n",
            " 366.   366.5  325.8  368.75 364.4  350.1  393.35 404.   350.   268.45\n",
            " 231.4  194.3  236.3  236.9  281.3  285.9  178.05 153.8  110.6   92.4\n",
            "  72.55  76.65  75.35  70.5   48.5   40.7   87.95  30.45  31.6   31.95\n",
            "  28.3   15.34  14.01  14.9 ]\n",
            "Unique values for Low: [ 11.25  12.55  12.27  12.4   12.88  13.    13.58  15.4   16.02  18.02\n",
            "  15.8   13.4   13.82  15.7   16.8   18.5   21.4   24.4   27.    26.8\n",
            "  23.31  26.2   29.11  30.4   35.02  30.2   35.3   33.6   40.02  45.\n",
            "  30.24  44.4   24.11  28.51  30.03  22.62  20.4   24.62  21.7   11.01\n",
            "  11.13  11.48   9.9    8.16   9.94  14.76  23.    24.83  29.    32.\n",
            "  36.8   42.84  48.6   46.42  44.6   47.3   48.8   50.66  52.6   53.02\n",
            "  59.01  62.51  68.21  58.    55.44  49.39  46.71  50.8   60.5   54.5\n",
            "  54.8   61.36  50.51  51.2   48.1   52.04  47.4   46.11  63.6   66.2\n",
            "  69.11  58.85  62.14  67.57  65.27  64.46  75.6   82.22  88.01  93.2\n",
            "  93.4   83.42  83.43  97.2   87.15  57.71  43.22  44.8   56.08  64.65\n",
            "  71.63  60.8   58.42  60.34  80.8   86.98 101.62 100.44 103.31 107.18\n",
            " 109.2  132.44 134.   150.47 156.1  156.8  154.53 157.8  158.9  156.45\n",
            " 118.   127.   141.73 144.03 133.71 126.45 132.74 138.35 165.33 181.28\n",
            " 201.14 221.35 240.68 231.2  245.8  219.1  218.25 226.3  275.61 283.6\n",
            " 300.2  275.15 280.21 290.78 337.37 345.5  299.   296.   300.65 307.35\n",
            " 304.65 285.1  303.3  325.7  327.35 332.45 338.   166.15 168.6  147.\n",
            " 160.2  181.15 167.65 228.8  165.3  133.05  98.75  81.75  53.15  40.95\n",
            "  29.05  59.95  40.7   36.55   5.55  20.3   25.2   25.55  11.1   11.85\n",
            "  12.75  12.11  12.21]\n",
            "Unique values for Close: [ 12.46  13.42  13.3   12.99  13.41  13.71  15.33  16.12  20.08  19.49\n",
            "  18.03  15.62  16.16  17.84  18.46  22.78  25.32  26.97  30.16  28.63\n",
            "  28.14  30.31  33.51  35.98  37.93  36.99  41.36  43.48  46.18  49.81\n",
            "  50.54  49.42  33.75  34.06  31.13  22.85  25.45  26.83  24.13  13.58\n",
            "  12.26  15.03  12.24  10.26   9.98  15.45  25.12  29.68  31.93  33.45\n",
            "  40.99  47.31  50.57  53.41  49.84  47.32  50.97  57.1   57.57  53.83\n",
            "  58.99  62.22  70.3   71.86  61.21  62.54  52.59  51.29  61.98  61.02\n",
            "  60.07  62.38  62.13  55.61  54.5   62.9   54.49  47.72  65.99  69.14\n",
            "  73.46  70.07  66.02  67.83  72.85  65.97  76.44  82.29  88.48  92.84\n",
            " 104.41  94.5   85.71 100.28  97.49  92.2   64.76  48.65  57.5   73.76\n",
            "  73.74  74.02  61.59  60.95  82.7   88.14 113.89 108.38 108.21 114.33\n",
            " 111.7  136.83 142.08 154.57 172.5  172.55 163.31 167.96 176.52 168.6\n",
            " 165.74 137.9  145.92 151.82 153.3  145.23 149.38 137.67 172.91 188.73\n",
            " 206.39 221.3  243.44 272.56 250.85 253.52 234.28 231.26 279.1  290.56\n",
            " 309.82 326.14 286.38 292.37 361.96 351.15 350.   314.35 306.8  315.05\n",
            " 354.45 322.25 304.9  362.05 346.2  339.6  367.9  343.4  183.45 188.05\n",
            " 169.65 181.75 194.3  231.2  275.05 168.   147.95 108.7   91.3   59.5\n",
            "  41.45  70.45  68.3   46.95  39.2   34.55  22.45  27.95  26.85  25.6\n",
            "  11.95  14.37  13.15  12.42  14.67]\n"
          ]
        }
      ]
    },
    {
      "cell_type": "markdown",
      "source": [
        "## **3**. ***Data Wrangling***"
      ],
      "metadata": {
        "id": "QtiBpA6smM5P"
      }
    },
    {
      "cell_type": "code",
      "source": [
        "# Converted Date column to Date Format by using Datetime Library. To get better visualisation about Date and Closing price of Stock.\n",
        "# Date Transformation: Convert a data type of column Date to datetime object format.\n",
        "\n",
        "data[\"Date\"] = pd.to_datetime(data[\"Date\"],format='%b-%y')"
      ],
      "metadata": {
        "id": "Tuz2nQe4mDYk"
      },
      "execution_count": 13,
      "outputs": []
    },
    {
      "cell_type": "code",
      "source": [
        "# Check wether it is converted or not\n",
        "data.head()"
      ],
      "metadata": {
        "colab": {
          "base_uri": "https://localhost:8080/",
          "height": 206
        },
        "id": "YkfdSOFgmSW_",
        "outputId": "78633666-1b09-44f1-8fcb-d6c54c650638"
      },
      "execution_count": 14,
      "outputs": [
        {
          "output_type": "execute_result",
          "data": {
            "text/plain": [
              "        Date   Open   High    Low  Close\n",
              "0 2005-07-01  13.00  14.00  11.25  12.46\n",
              "1 2005-08-01  12.58  14.88  12.55  13.42\n",
              "2 2005-09-01  13.48  14.87  12.27  13.30\n",
              "3 2005-10-01  13.20  14.47  12.40  12.99\n",
              "4 2005-11-01  13.35  13.88  12.88  13.41"
            ],
            "text/html": [
              "\n",
              "  <div id=\"df-62497447-74df-4853-b733-8cbae678ce30\" class=\"colab-df-container\">\n",
              "    <div>\n",
              "<style scoped>\n",
              "    .dataframe tbody tr th:only-of-type {\n",
              "        vertical-align: middle;\n",
              "    }\n",
              "\n",
              "    .dataframe tbody tr th {\n",
              "        vertical-align: top;\n",
              "    }\n",
              "\n",
              "    .dataframe thead th {\n",
              "        text-align: right;\n",
              "    }\n",
              "</style>\n",
              "<table border=\"1\" class=\"dataframe\">\n",
              "  <thead>\n",
              "    <tr style=\"text-align: right;\">\n",
              "      <th></th>\n",
              "      <th>Date</th>\n",
              "      <th>Open</th>\n",
              "      <th>High</th>\n",
              "      <th>Low</th>\n",
              "      <th>Close</th>\n",
              "    </tr>\n",
              "  </thead>\n",
              "  <tbody>\n",
              "    <tr>\n",
              "      <th>0</th>\n",
              "      <td>2005-07-01</td>\n",
              "      <td>13.00</td>\n",
              "      <td>14.00</td>\n",
              "      <td>11.25</td>\n",
              "      <td>12.46</td>\n",
              "    </tr>\n",
              "    <tr>\n",
              "      <th>1</th>\n",
              "      <td>2005-08-01</td>\n",
              "      <td>12.58</td>\n",
              "      <td>14.88</td>\n",
              "      <td>12.55</td>\n",
              "      <td>13.42</td>\n",
              "    </tr>\n",
              "    <tr>\n",
              "      <th>2</th>\n",
              "      <td>2005-09-01</td>\n",
              "      <td>13.48</td>\n",
              "      <td>14.87</td>\n",
              "      <td>12.27</td>\n",
              "      <td>13.30</td>\n",
              "    </tr>\n",
              "    <tr>\n",
              "      <th>3</th>\n",
              "      <td>2005-10-01</td>\n",
              "      <td>13.20</td>\n",
              "      <td>14.47</td>\n",
              "      <td>12.40</td>\n",
              "      <td>12.99</td>\n",
              "    </tr>\n",
              "    <tr>\n",
              "      <th>4</th>\n",
              "      <td>2005-11-01</td>\n",
              "      <td>13.35</td>\n",
              "      <td>13.88</td>\n",
              "      <td>12.88</td>\n",
              "      <td>13.41</td>\n",
              "    </tr>\n",
              "  </tbody>\n",
              "</table>\n",
              "</div>\n",
              "    <div class=\"colab-df-buttons\">\n",
              "\n",
              "  <div class=\"colab-df-container\">\n",
              "    <button class=\"colab-df-convert\" onclick=\"convertToInteractive('df-62497447-74df-4853-b733-8cbae678ce30')\"\n",
              "            title=\"Convert this dataframe to an interactive table.\"\n",
              "            style=\"display:none;\">\n",
              "\n",
              "  <svg xmlns=\"http://www.w3.org/2000/svg\" height=\"24px\" viewBox=\"0 -960 960 960\">\n",
              "    <path d=\"M120-120v-720h720v720H120Zm60-500h600v-160H180v160Zm220 220h160v-160H400v160Zm0 220h160v-160H400v160ZM180-400h160v-160H180v160Zm440 0h160v-160H620v160ZM180-180h160v-160H180v160Zm440 0h160v-160H620v160Z\"/>\n",
              "  </svg>\n",
              "    </button>\n",
              "\n",
              "  <style>\n",
              "    .colab-df-container {\n",
              "      display:flex;\n",
              "      gap: 12px;\n",
              "    }\n",
              "\n",
              "    .colab-df-convert {\n",
              "      background-color: #E8F0FE;\n",
              "      border: none;\n",
              "      border-radius: 50%;\n",
              "      cursor: pointer;\n",
              "      display: none;\n",
              "      fill: #1967D2;\n",
              "      height: 32px;\n",
              "      padding: 0 0 0 0;\n",
              "      width: 32px;\n",
              "    }\n",
              "\n",
              "    .colab-df-convert:hover {\n",
              "      background-color: #E2EBFA;\n",
              "      box-shadow: 0px 1px 2px rgba(60, 64, 67, 0.3), 0px 1px 3px 1px rgba(60, 64, 67, 0.15);\n",
              "      fill: #174EA6;\n",
              "    }\n",
              "\n",
              "    .colab-df-buttons div {\n",
              "      margin-bottom: 4px;\n",
              "    }\n",
              "\n",
              "    [theme=dark] .colab-df-convert {\n",
              "      background-color: #3B4455;\n",
              "      fill: #D2E3FC;\n",
              "    }\n",
              "\n",
              "    [theme=dark] .colab-df-convert:hover {\n",
              "      background-color: #434B5C;\n",
              "      box-shadow: 0px 1px 3px 1px rgba(0, 0, 0, 0.15);\n",
              "      filter: drop-shadow(0px 1px 2px rgba(0, 0, 0, 0.3));\n",
              "      fill: #FFFFFF;\n",
              "    }\n",
              "  </style>\n",
              "\n",
              "    <script>\n",
              "      const buttonEl =\n",
              "        document.querySelector('#df-62497447-74df-4853-b733-8cbae678ce30 button.colab-df-convert');\n",
              "      buttonEl.style.display =\n",
              "        google.colab.kernel.accessAllowed ? 'block' : 'none';\n",
              "\n",
              "      async function convertToInteractive(key) {\n",
              "        const element = document.querySelector('#df-62497447-74df-4853-b733-8cbae678ce30');\n",
              "        const dataTable =\n",
              "          await google.colab.kernel.invokeFunction('convertToInteractive',\n",
              "                                                    [key], {});\n",
              "        if (!dataTable) return;\n",
              "\n",
              "        const docLinkHtml = 'Like what you see? Visit the ' +\n",
              "          '<a target=\"_blank\" href=https://colab.research.google.com/notebooks/data_table.ipynb>data table notebook</a>'\n",
              "          + ' to learn more about interactive tables.';\n",
              "        element.innerHTML = '';\n",
              "        dataTable['output_type'] = 'display_data';\n",
              "        await google.colab.output.renderOutput(dataTable, element);\n",
              "        const docLink = document.createElement('div');\n",
              "        docLink.innerHTML = docLinkHtml;\n",
              "        element.appendChild(docLink);\n",
              "      }\n",
              "    </script>\n",
              "  </div>\n",
              "\n",
              "\n",
              "<div id=\"df-e11e56ce-47af-4027-a761-09e943fb657a\">\n",
              "  <button class=\"colab-df-quickchart\" onclick=\"quickchart('df-e11e56ce-47af-4027-a761-09e943fb657a')\"\n",
              "            title=\"Suggest charts\"\n",
              "            style=\"display:none;\">\n",
              "\n",
              "<svg xmlns=\"http://www.w3.org/2000/svg\" height=\"24px\"viewBox=\"0 0 24 24\"\n",
              "     width=\"24px\">\n",
              "    <g>\n",
              "        <path d=\"M19 3H5c-1.1 0-2 .9-2 2v14c0 1.1.9 2 2 2h14c1.1 0 2-.9 2-2V5c0-1.1-.9-2-2-2zM9 17H7v-7h2v7zm4 0h-2V7h2v10zm4 0h-2v-4h2v4z\"/>\n",
              "    </g>\n",
              "</svg>\n",
              "  </button>\n",
              "\n",
              "<style>\n",
              "  .colab-df-quickchart {\n",
              "      --bg-color: #E8F0FE;\n",
              "      --fill-color: #1967D2;\n",
              "      --hover-bg-color: #E2EBFA;\n",
              "      --hover-fill-color: #174EA6;\n",
              "      --disabled-fill-color: #AAA;\n",
              "      --disabled-bg-color: #DDD;\n",
              "  }\n",
              "\n",
              "  [theme=dark] .colab-df-quickchart {\n",
              "      --bg-color: #3B4455;\n",
              "      --fill-color: #D2E3FC;\n",
              "      --hover-bg-color: #434B5C;\n",
              "      --hover-fill-color: #FFFFFF;\n",
              "      --disabled-bg-color: #3B4455;\n",
              "      --disabled-fill-color: #666;\n",
              "  }\n",
              "\n",
              "  .colab-df-quickchart {\n",
              "    background-color: var(--bg-color);\n",
              "    border: none;\n",
              "    border-radius: 50%;\n",
              "    cursor: pointer;\n",
              "    display: none;\n",
              "    fill: var(--fill-color);\n",
              "    height: 32px;\n",
              "    padding: 0;\n",
              "    width: 32px;\n",
              "  }\n",
              "\n",
              "  .colab-df-quickchart:hover {\n",
              "    background-color: var(--hover-bg-color);\n",
              "    box-shadow: 0 1px 2px rgba(60, 64, 67, 0.3), 0 1px 3px 1px rgba(60, 64, 67, 0.15);\n",
              "    fill: var(--button-hover-fill-color);\n",
              "  }\n",
              "\n",
              "  .colab-df-quickchart-complete:disabled,\n",
              "  .colab-df-quickchart-complete:disabled:hover {\n",
              "    background-color: var(--disabled-bg-color);\n",
              "    fill: var(--disabled-fill-color);\n",
              "    box-shadow: none;\n",
              "  }\n",
              "\n",
              "  .colab-df-spinner {\n",
              "    border: 2px solid var(--fill-color);\n",
              "    border-color: transparent;\n",
              "    border-bottom-color: var(--fill-color);\n",
              "    animation:\n",
              "      spin 1s steps(1) infinite;\n",
              "  }\n",
              "\n",
              "  @keyframes spin {\n",
              "    0% {\n",
              "      border-color: transparent;\n",
              "      border-bottom-color: var(--fill-color);\n",
              "      border-left-color: var(--fill-color);\n",
              "    }\n",
              "    20% {\n",
              "      border-color: transparent;\n",
              "      border-left-color: var(--fill-color);\n",
              "      border-top-color: var(--fill-color);\n",
              "    }\n",
              "    30% {\n",
              "      border-color: transparent;\n",
              "      border-left-color: var(--fill-color);\n",
              "      border-top-color: var(--fill-color);\n",
              "      border-right-color: var(--fill-color);\n",
              "    }\n",
              "    40% {\n",
              "      border-color: transparent;\n",
              "      border-right-color: var(--fill-color);\n",
              "      border-top-color: var(--fill-color);\n",
              "    }\n",
              "    60% {\n",
              "      border-color: transparent;\n",
              "      border-right-color: var(--fill-color);\n",
              "    }\n",
              "    80% {\n",
              "      border-color: transparent;\n",
              "      border-right-color: var(--fill-color);\n",
              "      border-bottom-color: var(--fill-color);\n",
              "    }\n",
              "    90% {\n",
              "      border-color: transparent;\n",
              "      border-bottom-color: var(--fill-color);\n",
              "    }\n",
              "  }\n",
              "</style>\n",
              "\n",
              "  <script>\n",
              "    async function quickchart(key) {\n",
              "      const quickchartButtonEl =\n",
              "        document.querySelector('#' + key + ' button');\n",
              "      quickchartButtonEl.disabled = true;  // To prevent multiple clicks.\n",
              "      quickchartButtonEl.classList.add('colab-df-spinner');\n",
              "      try {\n",
              "        const charts = await google.colab.kernel.invokeFunction(\n",
              "            'suggestCharts', [key], {});\n",
              "      } catch (error) {\n",
              "        console.error('Error during call to suggestCharts:', error);\n",
              "      }\n",
              "      quickchartButtonEl.classList.remove('colab-df-spinner');\n",
              "      quickchartButtonEl.classList.add('colab-df-quickchart-complete');\n",
              "    }\n",
              "    (() => {\n",
              "      let quickchartButtonEl =\n",
              "        document.querySelector('#df-e11e56ce-47af-4027-a761-09e943fb657a button');\n",
              "      quickchartButtonEl.style.display =\n",
              "        google.colab.kernel.accessAllowed ? 'block' : 'none';\n",
              "    })();\n",
              "  </script>\n",
              "</div>\n",
              "\n",
              "    </div>\n",
              "  </div>\n"
            ],
            "application/vnd.google.colaboratory.intrinsic+json": {
              "type": "dataframe",
              "variable_name": "data",
              "summary": "{\n  \"name\": \"data\",\n  \"rows\": 185,\n  \"fields\": [\n    {\n      \"column\": \"Date\",\n      \"properties\": {\n        \"dtype\": \"date\",\n        \"min\": \"2005-07-01 00:00:00\",\n        \"max\": \"2020-11-01 00:00:00\",\n        \"num_unique_values\": 185,\n        \"samples\": [\n          \"2007-02-01 00:00:00\",\n          \"2009-01-01 00:00:00\",\n          \"2018-07-01 00:00:00\"\n        ],\n        \"semantic_type\": \"\",\n        \"description\": \"\"\n      }\n    },\n    {\n      \"column\": \"Open\",\n      \"properties\": {\n        \"dtype\": \"number\",\n        \"std\": 98.87984957695843,\n        \"min\": 10.0,\n        \"max\": 369.95,\n        \"num_unique_values\": 183,\n        \"samples\": [\n          30.2,\n          15.28,\n          348.0\n        ],\n        \"semantic_type\": \"\",\n        \"description\": \"\"\n      }\n    },\n    {\n      \"column\": \"High\",\n      \"properties\": {\n        \"dtype\": \"number\",\n        \"std\": 106.33349683743525,\n        \"min\": 11.24,\n        \"max\": 404.0,\n        \"num_unique_values\": 184,\n        \"samples\": [\n          32.6,\n          18.34,\n          393.35\n        ],\n        \"semantic_type\": \"\",\n        \"description\": \"\"\n      }\n    },\n    {\n      \"column\": \"Low\",\n      \"properties\": {\n        \"dtype\": \"number\",\n        \"std\": 91.2194154859808,\n        \"min\": 5.55,\n        \"max\": 345.5,\n        \"num_unique_values\": 183,\n        \"samples\": [\n          26.8,\n          9.9,\n          332.45\n        ],\n        \"semantic_type\": \"\",\n        \"description\": \"\"\n      }\n    },\n    {\n      \"column\": \"Close\",\n      \"properties\": {\n        \"dtype\": \"number\",\n        \"std\": 98.58315263645535,\n        \"min\": 9.98,\n        \"max\": 367.9,\n        \"num_unique_values\": 185,\n        \"samples\": [\n          28.63,\n          12.24,\n          367.9\n        ],\n        \"semantic_type\": \"\",\n        \"description\": \"\"\n      }\n    }\n  ]\n}"
            }
          },
          "metadata": {},
          "execution_count": 14
        }
      ]
    },
    {
      "cell_type": "markdown",
      "source": [
        "## ***4. Data Vizualization, Storytelling & Experimenting with charts : Understand the relationships between variables***"
      ],
      "metadata": {
        "id": "vVQJaOuzmY_p"
      }
    },
    {
      "cell_type": "markdown",
      "source": [
        "#### Chart - 1"
      ],
      "metadata": {
        "id": "6cogRVuWmiQ8"
      }
    },
    {
      "cell_type": "markdown",
      "source": [
        "**1: Univariate Analysis**"
      ],
      "metadata": {
        "id": "kcUuxy0smnX-"
      }
    },
    {
      "cell_type": "code",
      "source": [
        "\n",
        "# Check the distribution of Open columns\n",
        "plt.figure(figsize=(8,4))\n",
        "sns.distplot(data['Open'],color='green',kde=True)\n",
        "plt.show()"
      ],
      "metadata": {
        "colab": {
          "base_uri": "https://localhost:8080/",
          "height": 388
        },
        "id": "yrpYUVmzmWIt",
        "outputId": "79f6b0b8-9d00-4568-cd1b-595caff3d293"
      },
      "execution_count": 16,
      "outputs": [
        {
          "output_type": "display_data",
          "data": {
            "text/plain": [
              "<Figure size 800x400 with 1 Axes>"
            ],
            "image/png": "[encoded data removed]"
          },
          "metadata": {}
        }
      ]
    },
    {
      "cell_type": "code",
      "source": [],
      "metadata": {
        "id": "r3hoQmakmuA2"
      },
      "execution_count": null,
      "outputs": []
    }
  ]
}